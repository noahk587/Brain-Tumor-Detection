{
 "cells": [
  {
   "cell_type": "markdown",
   "metadata": {},
   "source": [
    "# TensorFlow to PyTorch"
   ]
  },
  {
   "cell_type": "code",
   "execution_count": 1,
   "metadata": {},
   "outputs": [],
   "source": [
    "import pickle\n",
    "import random\n",
    "import warnings\n",
    "import tensorflow as tf\n",
    "import torch\n",
    "import torch.nn as nn\n",
    "import torchvision.models as models"
   ]
  },
  {
   "cell_type": "code",
   "execution_count": 2,
   "metadata": {},
   "outputs": [],
   "source": [
    "random.seed(123)\n",
    "warnings.filterwarnings('ignore')"
   ]
  },
  {
   "cell_type": "code",
   "execution_count": 3,
   "metadata": {},
   "outputs": [
    {
     "name": "stderr",
     "output_type": "stream",
     "text": [
      "WARNING:absl:Compiled the loaded model, but the compiled metrics have yet to be built. `model.compile_metrics` will be empty until you train or evaluate the model.\n"
     ]
    }
   ],
   "source": [
    "tensorFlow_model = tf.keras.models.load_model('vgg_16_model.h5')"
   ]
  },
  {
   "cell_type": "code",
   "execution_count": 4,
   "metadata": {},
   "outputs": [],
   "source": [
    "# extract the weights\n",
    "weights = {}\n",
    "for layer in tensorFlow_model.layers:\n",
    "    if isinstance(layer, tf.keras.layers.Conv2D) or isinstance(layer, tf.keras.layers.Dense):\n",
    "        weights[layer.name] = {\n",
    "            \"kernel\": layer.get_weights()[0],  \n",
    "            \"bias\": layer.get_weights()[1]     \n",
    "        }"
   ]
  },
  {
   "cell_type": "markdown",
   "metadata": {},
   "source": [
    "## Create the PyTorch Version"
   ]
  },
  {
   "cell_type": "code",
   "execution_count": 5,
   "metadata": {},
   "outputs": [],
   "source": [
    "# define the pytorch model version\n",
    "vgg16_pytorch = models.vgg16(pretrained=False)\n",
    "\n",
    "# move weights to the PyTorch\n",
    "with torch.no_grad():\n",
    "    for (name, param), (layer_name, weight) in zip(vgg16_pytorch.named_parameters(), weights.items()):\n",
    "        if 'conv' in name:\n",
    "            # transpose the weights \n",
    "            param.data = torch.Tensor(weight['kernel']).permute(3, 2, 0, 1) \n",
    "        elif 'fc' in name:\n",
    "            param.data = torch.Tensor(weight['kernel']).T  \n",
    "            vgg16_pytorch.classifier[6].bias.data = torch.Tensor(weight['bias']) "
   ]
  },
  {
   "cell_type": "markdown",
   "metadata": {},
   "source": [
    "## Save the Model"
   ]
  },
  {
   "cell_type": "code",
   "execution_count": 6,
   "metadata": {},
   "outputs": [],
   "source": [
    "# define the filename to save the vgg-16 model\n",
    "fileName = \"vgg_16_model_pytorch.pkl\"\n",
    "# save the model\n",
    "with open(fileName, 'wb') as file:\n",
    "    pickle.dump(vgg16_pytorch ,file)"
   ]
  }
 ],
 "metadata": {
  "kernelspec": {
   "display_name": "base",
   "language": "python",
   "name": "python3"
  },
  "language_info": {
   "codemirror_mode": {
    "name": "ipython",
    "version": 3
   },
   "file_extension": ".py",
   "mimetype": "text/x-python",
   "name": "python",
   "nbconvert_exporter": "python",
   "pygments_lexer": "ipython3",
   "version": "3.11.4"
  }
 },
 "nbformat": 4,
 "nbformat_minor": 2
}
