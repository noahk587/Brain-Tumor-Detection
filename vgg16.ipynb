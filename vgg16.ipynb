{
 "cells": [
  {
   "cell_type": "markdown",
   "metadata": {},
   "source": [
    "# Exploratory Data Analysis"
   ]
  },
  {
   "cell_type": "code",
   "execution_count": 1,
   "metadata": {
    "execution": {
     "iopub.execute_input": "2024-11-03T19:03:22.260888Z",
     "iopub.status.busy": "2024-11-03T19:03:22.259759Z",
     "iopub.status.idle": "2024-11-03T19:03:22.274545Z",
     "shell.execute_reply": "2024-11-03T19:03:22.272982Z",
     "shell.execute_reply.started": "2024-11-03T19:03:22.260815Z"
    },
    "trusted": true
   },
   "outputs": [],
   "source": [
    "import numpy as np\n",
    "import pandas as pd\n",
    "import matplotlib.pyplot as plt\n",
    "import seaborn as sns\n",
    "import cv2  # for image processing\n",
    "from PIL import Image\n",
    "import os\n",
    "import random\n",
    "import warnings\n",
    "import pickle\n",
    "\n",
    "import tensorflow as tf\n",
    "from tensorflow.keras.models import Sequential\n",
    "from tensorflow.keras.layers import Input, Conv2D, MaxPooling2D, Flatten, Dense, Dropout\n",
    "from tensorflow.keras.preprocessing.image import ImageDataGenerator\n",
    "from tensorflow.keras import layers, models, applications\n",
    "from keras_tuner import RandomSearch\n",
    "from tensorflow.keras.applications import VGG16\n",
    "\n",
    "\n",
    "from sklearn.model_selection import train_test_split\n",
    "from sklearn.metrics import classification_report, confusion_matrix, ConfusionMatrixDisplay, RocCurveDisplay, roc_auc_score, roc_curve, precision_recall_curve, PrecisionRecallDisplay, average_precision_score\n",
    "import matplotlib.pyplot as plt"
   ]
  },
  {
   "cell_type": "code",
   "execution_count": 2,
   "metadata": {
    "execution": {
     "iopub.execute_input": "2024-11-03T18:57:25.583047Z",
     "iopub.status.busy": "2024-11-03T18:57:25.581161Z",
     "iopub.status.idle": "2024-11-03T18:57:25.589013Z",
     "shell.execute_reply": "2024-11-03T18:57:25.587405Z",
     "shell.execute_reply.started": "2024-11-03T18:57:25.582985Z"
    },
    "trusted": true
   },
   "outputs": [],
   "source": [
    "random.seed(123)\n",
    "warnings.filterwarnings('ignore')"
   ]
  },
  {
   "cell_type": "markdown",
   "metadata": {},
   "source": [
    "## Data Exploration"
   ]
  },
  {
   "cell_type": "code",
   "execution_count": 3,
   "metadata": {
    "execution": {
     "iopub.execute_input": "2024-11-03T18:57:30.011129Z",
     "iopub.status.busy": "2024-11-03T18:57:30.010515Z",
     "iopub.status.idle": "2024-11-03T18:57:30.874413Z",
     "shell.execute_reply": "2024-11-03T18:57:30.872978Z",
     "shell.execute_reply.started": "2024-11-03T18:57:30.011076Z"
    },
    "trusted": true
   },
   "outputs": [
    {
     "name": "stdout",
     "output_type": "stream",
     "text": [
      "Healthy Images: 2087, Unhealthy Images: 2513\n"
     ]
    }
   ],
   "source": [
    "healthy_filepath = \"archive/Brain Tumor Data Set/Brain Tumor Data Set/Healthy\"\n",
    "unhealthy_filepath = \"archive/Brain Tumor Data Set/Brain Tumor Data Set/Brain Tumor\"\n",
    "\n",
    "healthy_count = len(os.listdir(healthy_filepath))\n",
    "unhealthy_count = len(os.listdir(unhealthy_filepath))\n",
    "\n",
    "print(f\"Healthy Images: {healthy_count}, Unhealthy Images: {unhealthy_count}\")"
   ]
  },
  {
   "cell_type": "markdown",
   "metadata": {},
   "source": [
    "## Load Images"
   ]
  },
  {
   "cell_type": "code",
   "execution_count": 4,
   "metadata": {
    "execution": {
     "iopub.execute_input": "2024-11-03T18:57:34.011266Z",
     "iopub.status.busy": "2024-11-03T18:57:34.010705Z",
     "iopub.status.idle": "2024-11-03T18:57:34.023209Z",
     "shell.execute_reply": "2024-11-03T18:57:34.021578Z",
     "shell.execute_reply.started": "2024-11-03T18:57:34.011217Z"
    },
    "trusted": true
   },
   "outputs": [],
   "source": [
    "# standardize all of the images\n",
    "def load_images_from_folder(folder, label, image_size=(128, 128)):\n",
    "    images = []\n",
    "    labels = []\n",
    "    for filename in os.listdir(folder):\n",
    "        filepath = os.path.join(folder, filename)\n",
    "        try: \n",
    "            img = cv2.imread(filepath)\n",
    "            if img is not None: # if openCV can't read the image try with PIL\n",
    "                img = Image.open(filepath)\n",
    "                img = img.convert(\"RGB\") # convert to RGB in case of grayscale or RGBA\n",
    "                img = np.array(img)\n",
    "\n",
    "            img = cv2.resize(img, image_size)\n",
    "            images.append(img)\n",
    "            labels.append(label)\n",
    "        \n",
    "        except Exception as e:\n",
    "            print(f\"Error loading {filename}: {e}\")\n",
    "            continue  # Skip unreadable images\n",
    "            \n",
    "    return images, labels"
   ]
  },
  {
   "cell_type": "code",
   "execution_count": 5,
   "metadata": {
    "execution": {
     "iopub.execute_input": "2024-11-03T18:57:39.256642Z",
     "iopub.status.busy": "2024-11-03T18:57:39.256111Z",
     "iopub.status.idle": "2024-11-03T18:58:41.086369Z",
     "shell.execute_reply": "2024-11-03T18:58:41.085088Z",
     "shell.execute_reply.started": "2024-11-03T18:57:39.256595Z"
    },
    "trusted": true
   },
   "outputs": [],
   "source": [
    "# create arrays for images and labels\n",
    "healthy_images, healthy_labels = load_images_from_folder(healthy_filepath, label = 0)\n",
    "unhealthy_images, unhealthy_labels = load_images_from_folder(unhealthy_filepath, label = 1)"
   ]
  },
  {
   "cell_type": "markdown",
   "metadata": {},
   "source": [
    "## Image Preprocessing"
   ]
  },
  {
   "cell_type": "code",
   "execution_count": 6,
   "metadata": {
    "execution": {
     "iopub.execute_input": "2024-11-03T18:58:49.834792Z",
     "iopub.status.busy": "2024-11-03T18:58:49.834222Z",
     "iopub.status.idle": "2024-11-03T18:58:50.734299Z",
     "shell.execute_reply": "2024-11-03T18:58:50.733148Z",
     "shell.execute_reply.started": "2024-11-03T18:58:49.834742Z"
    },
    "trusted": true
   },
   "outputs": [],
   "source": [
    "X = np.array(healthy_images + unhealthy_images) / 255.0\n",
    "y = np.array(healthy_labels + unhealthy_labels)"
   ]
  },
  {
   "cell_type": "markdown",
   "metadata": {},
   "source": [
    "**X explained:**\n",
    "    This helps normalize the pixel values from their original range of [0, 255] to [0,1]. Normalizing helps the model learn more efficiently and can lead to better training results since most neural networks work better with normalized data. \n",
    "    \n"
   ]
  },
  {
   "cell_type": "code",
   "execution_count": 7,
   "metadata": {
    "execution": {
     "iopub.execute_input": "2024-11-03T18:58:53.263372Z",
     "iopub.status.busy": "2024-11-03T18:58:53.262909Z",
     "iopub.status.idle": "2024-11-03T18:58:53.269593Z",
     "shell.execute_reply": "2024-11-03T18:58:53.268392Z",
     "shell.execute_reply.started": "2024-11-03T18:58:53.263311Z"
    },
    "trusted": true
   },
   "outputs": [],
   "source": [
    "# Data Augmentation\n",
    "data_gen = ImageDataGenerator(\n",
    "    rotation_range=5,      # Smaller rotation range\n",
    "    zoom_range=0.1,        # Small zoom to avoid losing details\n",
    "    width_shift_range=0.05, # Small shifts to keep important features within the frame\n",
    "    height_shift_range=0.05,\n",
    "    fill_mode=\"nearest\"\n",
    ")\n"
   ]
  },
  {
   "cell_type": "markdown",
   "metadata": {},
   "source": [
    "**Data Augmentation:** Is meant to help prevent overfitting. \n",
    "* Rotation Range: randomly rotates images up to 20 degress which helps the model gereralize to slightly rotated images.\n",
    "* Zoom Range: randomly zooms in or out on images by up to 15% which helps the model learn to recognize images at different scales.\n",
    "* Width Shift Range and Height Shift Range: Randomly shifts images horizontally and vertically by up to 20%. This helps the model generalize slightly to images that may not be perfectly centered.\n",
    "* Shear Range: Shear transformation means essentially \"slanting\" the image by up to 15% which helps robustness with slight distortions.\n",
    "* Fill Mode: Speicifies how to fill in new pixel values when shifting, zooming, or rotating an image. "
   ]
  },
  {
   "cell_type": "markdown",
   "metadata": {},
   "source": [
    "## Split Data"
   ]
  },
  {
   "cell_type": "code",
   "execution_count": 8,
   "metadata": {
    "execution": {
     "iopub.execute_input": "2024-11-03T18:58:58.698941Z",
     "iopub.status.busy": "2024-11-03T18:58:58.698494Z",
     "iopub.status.idle": "2024-11-03T18:58:59.750860Z",
     "shell.execute_reply": "2024-11-03T18:58:59.749640Z",
     "shell.execute_reply.started": "2024-11-03T18:58:58.698898Z"
    },
    "trusted": true
   },
   "outputs": [
    {
     "name": "stdout",
     "output_type": "stream",
     "text": [
      "Training set: 1080 1080\n",
      "Validation set: 540 540\n",
      "Testing set: 180 180\n"
     ]
    }
   ],
   "source": [
    "# Separate healthy and unhealthy data based on labels\n",
    "X_healthy = X[y == 0]\n",
    "X_unhealthy = X[y == 1]\n",
    "\n",
    "# Step 1: Training Set - 60% of total data, balanced 50/50 between healthy and unhealthy\n",
    "train_size_per_class = 540  # 540 healthy, 540 unhealthy\n",
    "X_train = np.concatenate((X_healthy[:train_size_per_class], X_unhealthy[:train_size_per_class]))\n",
    "y_train = np.array([0] * train_size_per_class + [1] * train_size_per_class)\n",
    "\n",
    "# Step 2: Validation Set - 30% of total data, with an 80/20 split\n",
    "val_size_healthy = 432  # 80% healthy\n",
    "val_size_unhealthy = 108  # 20% unhealthy\n",
    "X_val = np.concatenate((X_healthy[train_size_per_class:train_size_per_class + val_size_healthy], \n",
    "                        X_unhealthy[train_size_per_class:train_size_per_class + val_size_unhealthy]))\n",
    "y_val = np.array([0] * val_size_healthy + [1] * val_size_unhealthy)\n",
    "\n",
    "# Step 3: Testing Set - 10% of total data, with an 80/20 split\n",
    "test_size_healthy = 144  # 80% healthy\n",
    "test_size_unhealthy = 36  # 20% unhealthy\n",
    "X_test = np.concatenate((X_healthy[train_size_per_class + val_size_healthy:train_size_per_class + val_size_healthy + test_size_healthy], \n",
    "                         X_unhealthy[train_size_per_class + val_size_unhealthy:train_size_per_class + val_size_unhealthy + test_size_unhealthy]))\n",
    "y_test = np.array([0] * test_size_healthy + [1] * test_size_unhealthy)\n",
    "\n",
    "# Verification\n",
    "print(\"Training set:\", len(X_train), len(y_train))  # Expected: 1080\n",
    "print(\"Validation set:\", len(X_val), len(y_val))    # Expected: 540\n",
    "print(\"Testing set:\", len(X_test), len(y_test))      # Expected: 180\n"
   ]
  },
  {
   "cell_type": "markdown",
   "metadata": {},
   "source": [
    "**Training Set (2760 Images):**\n",
    "* We select the first 1380 healthy and the first 1380 unhealthy images to ensure a 50/50 split.\n",
    "\n",
    "**Validation Set (1380 Images):**\n",
    "* We select the next 1104 healthy images and 276 unhealthy images to achieve an 80/20 split.\n",
    "\n",
    "**Testing Set (460 Images):**\n",
    "* Finally, we select the next 368 healthy images and 92 unhealthy images to meet the 80/20 split."
   ]
  },
  {
   "cell_type": "markdown",
   "metadata": {},
   "source": [
    "# VGG-16 CNN"
   ]
  },
  {
   "cell_type": "code",
   "execution_count": 9,
   "metadata": {
    "execution": {
     "iopub.execute_input": "2024-11-03T19:08:35.541878Z",
     "iopub.status.busy": "2024-11-03T19:08:35.541342Z",
     "iopub.status.idle": "2024-11-03T19:08:35.552641Z",
     "shell.execute_reply": "2024-11-03T19:08:35.550693Z",
     "shell.execute_reply.started": "2024-11-03T19:08:35.541835Z"
    },
    "trusted": true
   },
   "outputs": [],
   "source": [
    "# function to build the CNN model based on the hyperparameter\n",
    "def build_model(hp):\n",
    "    # define the base VGG-16 model\n",
    "    base_model = VGG16(\n",
    "        weights = 'imagenet',\n",
    "        include_top=False,\n",
    "        input_shape=(128, 128, 3)\n",
    "    )\n",
    "\n",
    "    # freeze the base model\n",
    "    base_model.trainable = False\n",
    "        \n",
    "    model = models.Sequential([\n",
    "        base_model,\n",
    "        layers.Flatten(),\n",
    "        layers.Dense(units=hp.Int('units', min_value=64, max_value=512, step=64), activation='relu'),\n",
    "        layers.Dropout(rate=hp.Float('dropout', 0.1, 0.5, step=0.1)),\n",
    "        layers.Dense(1, activation= 'sigmoid')  \n",
    "    ])\n",
    "    \n",
    "    model.compile(optimizer=tf.keras.optimizers.Adam(\n",
    "                      learning_rate=hp.Choice('learning_rate', values=[1e-2, 1e-3, 1e-4])),\n",
    "                  loss='binary_crossentropy', \n",
    "                  metrics=['accuracy'])\n",
    "    return model"
   ]
  },
  {
   "cell_type": "code",
   "execution_count": 10,
   "metadata": {
    "execution": {
     "iopub.execute_input": "2024-11-03T19:08:42.744003Z",
     "iopub.status.busy": "2024-11-03T19:08:42.743469Z",
     "iopub.status.idle": "2024-11-03T19:09:03.484943Z",
     "shell.execute_reply": "2024-11-03T19:09:03.482637Z",
     "shell.execute_reply.started": "2024-11-03T19:08:42.743959Z"
    },
    "trusted": true
   },
   "outputs": [],
   "source": [
    "# set up the tuner\n",
    "tuner = RandomSearch(\n",
    "    build_model,\n",
    "    objective='val_accuracy',\n",
    "    max_trials=5,\n",
    "    executions_per_trial=1,\n",
    "    directory='my_dir',\n",
    "    project_name='vgg16_tuning'\n",
    ")"
   ]
  },
  {
   "cell_type": "code",
   "execution_count": 11,
   "metadata": {
    "trusted": true
   },
   "outputs": [
    {
     "name": "stdout",
     "output_type": "stream",
     "text": [
      "Trial 5 Complete [00h 06m 13s]\n",
      "val_accuracy: 0.9370370507240295\n",
      "\n",
      "Best val_accuracy So Far: 0.9481481313705444\n",
      "Total elapsed time: 00h 27m 45s\n"
     ]
    }
   ],
   "source": [
    "# search for the best hyperparameters\n",
    "tuner.search(X_train, y_train, epochs=10, validation_data = (X_val, y_val))"
   ]
  },
  {
   "cell_type": "code",
   "execution_count": 12,
   "metadata": {
    "trusted": true
   },
   "outputs": [
    {
     "name": "stdout",
     "output_type": "stream",
     "text": [
      "Best hyperparameters:\n",
      "Units: 320\n",
      "Learning Rate: 0.01\n",
      "Dropout: 0.30000000000000004\n"
     ]
    }
   ],
   "source": [
    "# get best model\n",
    "best_model = tuner.get_best_models(num_models=1)[0]\n",
    "\n",
    "# get the best hyperparameters\n",
    "best_parm = tuner.get_best_hyperparameters(num_trials=1)[0]\n",
    "print(\"Best hyperparameters:\")\n",
    "print(f\"Units: {best_parm.get('units')}\")\n",
    "print(f\"Learning Rate: {best_parm.get('learning_rate')}\")\n",
    "print(f\"Dropout: {best_parm.get('dropout')}\")"
   ]
  },
  {
   "cell_type": "code",
   "execution_count": 13,
   "metadata": {
    "trusted": true
   },
   "outputs": [
    {
     "name": "stdout",
     "output_type": "stream",
     "text": [
      "\u001b[1m6/6\u001b[0m \u001b[32m━━━━━━━━━━━━━━━━━━━━\u001b[0m\u001b[37m\u001b[0m \u001b[1m5s\u001b[0m 713ms/step - accuracy: 0.9620 - loss: 0.1398\n",
      "Testing Accuracy:  0.9555555582046509\n",
      "Testing Loss:  0.14400845766067505\n"
     ]
    }
   ],
   "source": [
    "# get the testing accuracy and loss\n",
    "test_loss, test_accuracy = best_model.evaluate(X_test, y_test)\n",
    "print(\"Testing Accuracy: \", test_accuracy)\n",
    "print(\"Testing Loss: \", test_loss)"
   ]
  },
  {
   "cell_type": "code",
   "execution_count": 14,
   "metadata": {},
   "outputs": [
    {
     "name": "stdout",
     "output_type": "stream",
     "text": [
      "\u001b[1m6/6\u001b[0m \u001b[32m━━━━━━━━━━━━━━━━━━━━\u001b[0m\u001b[37m\u001b[0m \u001b[1m4s\u001b[0m 721ms/step\n",
      "              precision    recall  f1-score   support\n",
      "\n",
      "           0       0.97      0.97      0.97       144\n",
      "           1       0.89      0.89      0.89        36\n",
      "\n",
      "    accuracy                           0.96       180\n",
      "   macro avg       0.93      0.93      0.93       180\n",
      "weighted avg       0.96      0.96      0.96       180\n",
      "\n"
     ]
    }
   ],
   "source": [
    "# Predict on the test set\n",
    "y_pred = best_model.predict(X_test)\n",
    "y_pred_round = np.round(y_pred).astype(int)  # Convert probabilities to binary predictions\n",
    "\n",
    "# Generate classification report and confusion matrix\n",
    "print(classification_report(y_test, y_pred_round))\n",
    "confusionMatrix = confusion_matrix(y_test, y_pred_round)"
   ]
  },
  {
   "cell_type": "markdown",
   "metadata": {},
   "source": [
    "## Visualize Confusion Matrix"
   ]
  },
  {
   "cell_type": "code",
   "execution_count": 15,
   "metadata": {},
   "outputs": [
    {
     "data": {
      "image/png": "[encoded data removed]",
      "text/plain": [
       "<Figure size 400x400 with 2 Axes>"
      ]
     },
     "metadata": {},
     "output_type": "display_data"
    }
   ],
   "source": [
    "# plot the confusion matrix\n",
    "confusionMatrixPlot = ConfusionMatrixDisplay(confusion_matrix = confusionMatrix)\n",
    "plt.figure(figsize=(4, 4))\n",
    "confusionMatrixPlot.plot(ax=plt.gca())\n",
    "plt.show()"
   ]
  },
  {
   "cell_type": "markdown",
   "metadata": {},
   "source": [
    "## ROC Curve"
   ]
  },
  {
   "cell_type": "code",
   "execution_count": 16,
   "metadata": {},
   "outputs": [],
   "source": [
    "# compute the AUC value\n",
    "aucValue = roc_auc_score(y_test, y_pred)"
   ]
  },
  {
   "cell_type": "code",
   "execution_count": 17,
   "metadata": {},
   "outputs": [
    {
     "data": {
      "image/png": "[encoded data removed]",
      "text/plain": [
       "<Figure size 700x700 with 1 Axes>"
      ]
     },
     "metadata": {},
     "output_type": "display_data"
    }
   ],
   "source": [
    "# plot the ROC\n",
    "fpr, tpr, _ = roc_curve(y_test, y_pred)\n",
    "plt.figure(figsize=(7, 7))\n",
    "roc_display = RocCurveDisplay(fpr=fpr, tpr=tpr)\n",
    "roc_display.plot(ax=plt.gca())\n",
    "plt.title(f\"ROC Curve (AUC = {aucValue:.2f})\")\n",
    "plt.show()"
   ]
  },
  {
   "cell_type": "markdown",
   "metadata": {},
   "source": [
    "## Precision-Recall Curve"
   ]
  },
  {
   "cell_type": "code",
   "execution_count": 18,
   "metadata": {},
   "outputs": [],
   "source": [
    "# compute the precision and recall\n",
    "precision, recall, thresholds = precision_recall_curve(y_test, y_pred)\n",
    "average_precision = average_precision_score(y_test, y_pred)"
   ]
  },
  {
   "cell_type": "code",
   "execution_count": 19,
   "metadata": {},
   "outputs": [
    {
     "data": {
      "image/png": "[encoded data removed]",
      "text/plain": [
       "<Figure size 700x700 with 1 Axes>"
      ]
     },
     "metadata": {},
     "output_type": "display_data"
    }
   ],
   "source": [
    "# plot the PRC\n",
    "fpr, tpr, _ = roc_curve(y_test, y_pred)\n",
    "plt.figure(figsize=(7, 7))\n",
    "PRC_display = PrecisionRecallDisplay(precision= precision, recall=recall)\n",
    "PRC_display.plot(ax=plt.gca())\n",
    "plt.title(f\"Precision-Recall Curve (AP = {average_precision:.2f})\")\n",
    "plt.show()"
   ]
  },
  {
   "cell_type": "markdown",
   "metadata": {},
   "source": [
    "## Save the Model"
   ]
  },
  {
   "cell_type": "code",
   "execution_count": 20,
   "metadata": {},
   "outputs": [],
   "source": [
    "# define the filename to save the vgg-16 model\n",
    "fileName = \"vgg_16_model.pkl\"\n",
    "# save the model\n",
    "with open(fileName, 'wb') as file:\n",
    "    pickle.dump(best_model ,file)"
   ]
  }
 ],
 "metadata": {
  "kaggle": {
   "accelerator": "none",
   "dataSources": [
    {
     "datasetId": 1343913,
     "sourceId": 2236708,
     "sourceType": "datasetVersion"
    }
   ],
   "dockerImageVersionId": 30786,
   "isGpuEnabled": false,
   "isInternetEnabled": false,
   "language": "python",
   "sourceType": "notebook"
  },
  "kernelspec": {
   "display_name": "base",
   "language": "python",
   "name": "python3"
  },
  "language_info": {
   "codemirror_mode": {
    "name": "ipython",
    "version": 3
   },
   "file_extension": ".py",
   "mimetype": "text/x-python",
   "name": "python",
   "nbconvert_exporter": "python",
   "pygments_lexer": "ipython3",
   "version": "3.11.4"
  }
 },
 "nbformat": 4,
 "nbformat_minor": 4
}
