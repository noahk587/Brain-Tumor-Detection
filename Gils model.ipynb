{
 "cells": [
  {
   "cell_type": "markdown",
   "metadata": {},
   "source": [
    "# Exploratory Data Analysis"
   ]
  },
  {
   "cell_type": "code",
   "execution_count": 1,
   "metadata": {
    "execution": {
     "iopub.execute_input": "2024-11-02T20:59:17.592264Z",
     "iopub.status.busy": "2024-11-02T20:59:17.591792Z",
     "iopub.status.idle": "2024-11-02T20:59:34.618620Z",
     "shell.execute_reply": "2024-11-02T20:59:34.617420Z",
     "shell.execute_reply.started": "2024-11-02T20:59:17.592219Z"
    },
    "trusted": true
   },
   "outputs": [],
   "source": [
    "import numpy as np\n",
    "import pandas as pd\n",
    "import matplotlib.pyplot as plt\n",
    "import seaborn as sns\n",
    "import cv2  # for image processing\n",
    "from PIL import Image\n",
    "import os\n",
    "import random\n",
    "import warnings\n",
    "\n",
    "import tensorflow as tf\n",
    "from tensorflow.keras.models import Sequential\n",
    "from tensorflow.keras.layers import Input, Conv2D, MaxPooling2D, Flatten, Dense, Dropout\n",
    "from tensorflow.keras.preprocessing.image import ImageDataGenerator\n",
    "from tensorflow.keras import layers, models, applications\n",
    "from keras_tuner import RandomSearch\n",
    "from tensorflow.keras.applications import VGG16\n",
    "\n",
    "\n",
    "from sklearn.model_selection import train_test_split\n",
    "from sklearn.metrics import classification_report, confusion_matrix, ConfusionMatrixDisplay, RocCurveDisplay, roc_auc_score, roc_curve, precision_recall_curve, PrecisionRecallDisplay, average_precision_score\n",
    "import matplotlib.pyplot as plt"
   ]
  },
  {
   "cell_type": "code",
   "execution_count": 2,
   "metadata": {},
   "outputs": [],
   "source": [
    "random.seed(123)\n",
    "warnings.filterwarnings('ignore')"
   ]
  },
  {
   "cell_type": "markdown",
   "metadata": {},
   "source": [
    "## Data Exploration"
   ]
  },
  {
   "cell_type": "code",
   "execution_count": 3,
   "metadata": {
    "execution": {
     "iopub.execute_input": "2024-11-02T20:59:34.621316Z",
     "iopub.status.busy": "2024-11-02T20:59:34.620631Z",
     "iopub.status.idle": "2024-11-02T20:59:35.169291Z",
     "shell.execute_reply": "2024-11-02T20:59:35.168249Z",
     "shell.execute_reply.started": "2024-11-02T20:59:34.621274Z"
    },
    "trusted": true
   },
   "outputs": [
    {
     "name": "stdout",
     "output_type": "stream",
     "text": [
      "Healthy Images: 2087, Unhealthy Images: 2513\n"
     ]
    }
   ],
   "source": [
    "healthy_filepath = \"archive/Brain Tumor Data Set/Brain Tumor Data Set/Healthy\"\n",
    "unhealthy_filepath = \"archive/Brain Tumor Data Set/Brain Tumor Data Set/Brain Tumor\"\n",
    "\n",
    "healthy_count = len(os.listdir(healthy_filepath))\n",
    "unhealthy_count = len(os.listdir(unhealthy_filepath))\n",
    "\n",
    "print(f\"Healthy Images: {healthy_count}, Unhealthy Images: {unhealthy_count}\")"
   ]
  },
  {
   "cell_type": "markdown",
   "metadata": {},
   "source": [
    "## Load Images"
   ]
  },
  {
   "cell_type": "code",
   "execution_count": 4,
   "metadata": {
    "execution": {
     "iopub.execute_input": "2024-11-02T20:59:35.171154Z",
     "iopub.status.busy": "2024-11-02T20:59:35.170760Z",
     "iopub.status.idle": "2024-11-02T20:59:35.181493Z",
     "shell.execute_reply": "2024-11-02T20:59:35.180219Z",
     "shell.execute_reply.started": "2024-11-02T20:59:35.171085Z"
    },
    "trusted": true
   },
   "outputs": [],
   "source": [
    "# standardize all of the images\n",
    "def load_images_from_folder(folder, label, image_size=(128, 128)):\n",
    "    images = []\n",
    "    labels = []\n",
    "    for filename in os.listdir(folder):\n",
    "        filepath = os.path.join(folder, filename)\n",
    "        try: \n",
    "            img = cv2.imread(filepath)\n",
    "            if img is not None: # if openCV can't read the image try with PIL\n",
    "                img = Image.open(filepath)\n",
    "                img = img.convert(\"RGB\") # convert to RGB in case of grayscale or RGBA\n",
    "                img = np.array(img)\n",
    "\n",
    "            img = cv2.resize(img, image_size)\n",
    "            images.append(img)\n",
    "            labels.append(label)\n",
    "        \n",
    "        except Exception as e:\n",
    "            print(f\"Error loading {filename}: {e}\")\n",
    "            continue  # Skip unreadable images\n",
    "            \n",
    "    return images, labels"
   ]
  },
  {
   "cell_type": "code",
   "execution_count": 5,
   "metadata": {
    "execution": {
     "iopub.execute_input": "2024-11-02T20:59:35.184589Z",
     "iopub.status.busy": "2024-11-02T20:59:35.184186Z",
     "iopub.status.idle": "2024-11-02T21:00:32.659251Z",
     "shell.execute_reply": "2024-11-02T21:00:32.658065Z",
     "shell.execute_reply.started": "2024-11-02T20:59:35.184550Z"
    },
    "trusted": true
   },
   "outputs": [],
   "source": [
    "# create arrays for images and labels\n",
    "healthy_images, healthy_labels = load_images_from_folder(healthy_filepath, label = 0)\n",
    "unhealthy_images, unhealthy_labels = load_images_from_folder(unhealthy_filepath, label = 1)"
   ]
  },
  {
   "cell_type": "markdown",
   "metadata": {},
   "source": [
    "## Image Preprocessing"
   ]
  },
  {
   "cell_type": "code",
   "execution_count": 6,
   "metadata": {
    "execution": {
     "iopub.execute_input": "2024-11-02T21:00:32.662394Z",
     "iopub.status.busy": "2024-11-02T21:00:32.661331Z",
     "iopub.status.idle": "2024-11-02T21:00:33.562593Z",
     "shell.execute_reply": "2024-11-02T21:00:33.561445Z",
     "shell.execute_reply.started": "2024-11-02T21:00:32.662324Z"
    },
    "trusted": true
   },
   "outputs": [],
   "source": [
    "X = np.array(healthy_images + unhealthy_images) / 255.0\n",
    "y = np.array(healthy_labels + unhealthy_labels)"
   ]
  },
  {
   "cell_type": "markdown",
   "metadata": {},
   "source": [
    "**X explained:**\n",
    "    This helps normalize the pixel values from their original range of [0, 255] to [0,1]. Normalizing helps the model learn more efficiently and can lead to better training results since most neural networks work better with normalized data. \n",
    "    \n"
   ]
  },
  {
   "cell_type": "code",
   "execution_count": 7,
   "metadata": {
    "execution": {
     "iopub.execute_input": "2024-11-02T21:00:33.564205Z",
     "iopub.status.busy": "2024-11-02T21:00:33.563836Z",
     "iopub.status.idle": "2024-11-02T21:00:33.570056Z",
     "shell.execute_reply": "2024-11-02T21:00:33.568781Z",
     "shell.execute_reply.started": "2024-11-02T21:00:33.564166Z"
    },
    "trusted": true
   },
   "outputs": [],
   "source": [
    "# Data Augmentation\n",
    "data_gen = ImageDataGenerator(\n",
    "    rotation_range=5,      # Smaller rotation range\n",
    "    zoom_range=0.1,        # Small zoom to avoid losing details\n",
    "    width_shift_range=0.05, # Small shifts to keep important features within the frame\n",
    "    height_shift_range=0.05,\n",
    "    fill_mode=\"nearest\"\n",
    ")\n"
   ]
  },
  {
   "cell_type": "markdown",
   "metadata": {},
   "source": [
    "**Data Augmentation:** Is meant to help prevent overfitting. \n",
    "* Rotation Range: randomly rotates images up to 20 degress which helps the model gereralize to slightly rotated images.\n",
    "* Zoom Range: randomly zooms in or out on images by up to 15% which helps the model learn to recognize images at different scales.\n",
    "* Width Shift Range and Height Shift Range: Randomly shifts images horizontally and vertically by up to 20%. This helps the model generalize slightly to images that may not be perfectly centered.\n",
    "* Shear Range: Shear transformation means essentially \"slanting\" the image by up to 15% which helps robustness with slight distortions.\n",
    "* Fill Mode: Speicifies how to fill in new pixel values when shifting, zooming, or rotating an image. "
   ]
  },
  {
   "cell_type": "markdown",
   "metadata": {},
   "source": [
    "## Split Data"
   ]
  },
  {
   "cell_type": "code",
   "execution_count": 8,
   "metadata": {
    "execution": {
     "iopub.execute_input": "2024-11-02T21:00:33.572516Z",
     "iopub.status.busy": "2024-11-02T21:00:33.572077Z",
     "iopub.status.idle": "2024-11-02T21:00:34.591299Z",
     "shell.execute_reply": "2024-11-02T21:00:34.589912Z",
     "shell.execute_reply.started": "2024-11-02T21:00:33.572476Z"
    },
    "trusted": true
   },
   "outputs": [
    {
     "name": "stdout",
     "output_type": "stream",
     "text": [
      "Training set: 1080 1080\n",
      "Validation set: 540 540\n",
      "Testing set: 180 180\n"
     ]
    }
   ],
   "source": [
    "# Separate healthy and unhealthy data based on labels\n",
    "X_healthy = X[y == 0]\n",
    "X_unhealthy = X[y == 1]\n",
    "\n",
    "# Step 1: Training Set - 60% of total data, balanced 50/50 between healthy and unhealthy\n",
    "train_size_per_class = 540  # 540 healthy, 540 unhealthy\n",
    "X_train = np.concatenate((X_healthy[:train_size_per_class], X_unhealthy[:train_size_per_class]))\n",
    "y_train = np.array([0] * train_size_per_class + [1] * train_size_per_class)\n",
    "\n",
    "# Step 2: Validation Set - 30% of total data, with an 80/20 split\n",
    "val_size_healthy = 432  # 80% healthy\n",
    "val_size_unhealthy = 108  # 20% unhealthy\n",
    "X_val = np.concatenate((X_healthy[train_size_per_class:train_size_per_class + val_size_healthy], \n",
    "                        X_unhealthy[train_size_per_class:train_size_per_class + val_size_unhealthy]))\n",
    "y_val = np.array([0] * val_size_healthy + [1] * val_size_unhealthy)\n",
    "\n",
    "# Step 3: Testing Set - 10% of total data, with an 80/20 split\n",
    "test_size_healthy = 144  # 80% healthy\n",
    "test_size_unhealthy = 36  # 20% unhealthy\n",
    "X_test = np.concatenate((X_healthy[train_size_per_class + val_size_healthy:train_size_per_class + val_size_healthy + test_size_healthy], \n",
    "                         X_unhealthy[train_size_per_class + val_size_unhealthy:train_size_per_class + val_size_unhealthy + test_size_unhealthy]))\n",
    "y_test = np.array([0] * test_size_healthy + [1] * test_size_unhealthy)\n",
    "\n",
    "# Verification\n",
    "print(\"Training set:\", len(X_train), len(y_train))  # Expected: 1080\n",
    "print(\"Validation set:\", len(X_val), len(y_val))    # Expected: 540\n",
    "print(\"Testing set:\", len(X_test), len(y_test))      # Expected: 180\n"
   ]
  },
  {
   "cell_type": "markdown",
   "metadata": {},
   "source": [
    "**Training Set (2760 Images):**\n",
    "* We select the first 1380 healthy and the first 1380 unhealthy images to ensure a 50/50 split.\n",
    "\n",
    "**Validation Set (1380 Images):**\n",
    "* We select the next 1104 healthy images and 276 unhealthy images to achieve an 80/20 split.\n",
    "\n",
    "**Testing Set (460 Images):**\n",
    "* Finally, we select the next 368 healthy images and 92 unhealthy images to meet the 80/20 split."
   ]
  },
  {
   "cell_type": "markdown",
   "metadata": {},
   "source": [
    "# Model Building"
   ]
  },
  {
   "cell_type": "code",
   "execution_count": 9,
   "metadata": {
    "execution": {
     "iopub.execute_input": "2024-11-02T21:00:34.593084Z",
     "iopub.status.busy": "2024-11-02T21:00:34.592710Z",
     "iopub.status.idle": "2024-11-02T21:00:34.769357Z",
     "shell.execute_reply": "2024-11-02T21:00:34.768189Z",
     "shell.execute_reply.started": "2024-11-02T21:00:34.593045Z"
    },
    "trusted": true
   },
   "outputs": [],
   "source": [
    "model = Sequential([\n",
    "    Input(shape=(128, 128, 3)),  # Define the input shape here\n",
    "    Conv2D(32, (3,3), activation='relu'),\n",
    "    MaxPooling2D((2,2)),\n",
    "    Conv2D(64, (3,3), activation='relu'),\n",
    "    MaxPooling2D((2,2)),\n",
    "    Flatten(),\n",
    "    Dense(128, activation='relu'),\n",
    "    Dropout(0.5),\n",
    "    Dense(1, activation='sigmoid')\n",
    "])\n"
   ]
  },
  {
   "cell_type": "code",
   "execution_count": 10,
   "metadata": {
    "execution": {
     "iopub.execute_input": "2024-11-02T21:00:34.771405Z",
     "iopub.status.busy": "2024-11-02T21:00:34.770918Z",
     "iopub.status.idle": "2024-11-02T21:00:34.789168Z",
     "shell.execute_reply": "2024-11-02T21:00:34.787976Z",
     "shell.execute_reply.started": "2024-11-02T21:00:34.771351Z"
    },
    "trusted": true
   },
   "outputs": [],
   "source": [
    "model.compile(optimizer='adam', loss='binary_crossentropy', metrics=['accuracy'])"
   ]
  },
  {
   "cell_type": "code",
   "execution_count": 11,
   "metadata": {
    "execution": {
     "iopub.execute_input": "2024-11-02T21:00:34.792783Z",
     "iopub.status.busy": "2024-11-02T21:00:34.792365Z",
     "iopub.status.idle": "2024-11-02T21:00:34.799319Z",
     "shell.execute_reply": "2024-11-02T21:00:34.798156Z",
     "shell.execute_reply.started": "2024-11-02T21:00:34.792742Z"
    },
    "trusted": true
   },
   "outputs": [
    {
     "name": "stdout",
     "output_type": "stream",
     "text": [
      "1080 1080\n",
      "540 540\n"
     ]
    }
   ],
   "source": [
    "print(len(X_train), len(y_train))  # Ensure both are equal\n",
    "print(len(X_val), len(y_val))\n"
   ]
  },
  {
   "cell_type": "code",
   "execution_count": 12,
   "metadata": {
    "execution": {
     "iopub.execute_input": "2024-11-02T21:00:34.801250Z",
     "iopub.status.busy": "2024-11-02T21:00:34.800793Z",
     "iopub.status.idle": "2024-11-02T21:06:43.741391Z",
     "shell.execute_reply": "2024-11-02T21:06:43.740059Z",
     "shell.execute_reply.started": "2024-11-02T21:00:34.801199Z"
    },
    "trusted": true
   },
   "outputs": [
    {
     "name": "stdout",
     "output_type": "stream",
     "text": [
      "Epoch 1/20\n",
      "\u001b[1m34/34\u001b[0m \u001b[32m━━━━━━━━━━━━━━━━━━━━\u001b[0m\u001b[37m\u001b[0m \u001b[1m5s\u001b[0m 111ms/step - accuracy: 0.5263 - loss: 1.1788 - val_accuracy: 0.6204 - val_loss: 0.6479\n",
      "Epoch 2/20\n",
      "\u001b[1m34/34\u001b[0m \u001b[32m━━━━━━━━━━━━━━━━━━━━\u001b[0m\u001b[37m\u001b[0m \u001b[1m4s\u001b[0m 101ms/step - accuracy: 0.5746 - loss: 0.6528 - val_accuracy: 0.6370 - val_loss: 0.6070\n",
      "Epoch 3/20\n",
      "\u001b[1m34/34\u001b[0m \u001b[32m━━━━━━━━━━━━━━━━━━━━\u001b[0m\u001b[37m\u001b[0m \u001b[1m4s\u001b[0m 103ms/step - accuracy: 0.6405 - loss: 0.6389 - val_accuracy: 0.7370 - val_loss: 0.4674\n",
      "Epoch 4/20\n",
      "\u001b[1m34/34\u001b[0m \u001b[32m━━━━━━━━━━━━━━━━━━━━\u001b[0m\u001b[37m\u001b[0m \u001b[1m4s\u001b[0m 108ms/step - accuracy: 0.7078 - loss: 0.5590 - val_accuracy: 0.7333 - val_loss: 0.5013\n",
      "Epoch 5/20\n",
      "\u001b[1m34/34\u001b[0m \u001b[32m━━━━━━━━━━━━━━━━━━━━\u001b[0m\u001b[37m\u001b[0m \u001b[1m4s\u001b[0m 105ms/step - accuracy: 0.7609 - loss: 0.4958 - val_accuracy: 0.8056 - val_loss: 0.4339\n",
      "Epoch 6/20\n",
      "\u001b[1m34/34\u001b[0m \u001b[32m━━━━━━━━━━━━━━━━━━━━\u001b[0m\u001b[37m\u001b[0m \u001b[1m4s\u001b[0m 102ms/step - accuracy: 0.7547 - loss: 0.4951 - val_accuracy: 0.7796 - val_loss: 0.4111\n",
      "Epoch 7/20\n",
      "\u001b[1m34/34\u001b[0m \u001b[32m━━━━━━━━━━━━━━━━━━━━\u001b[0m\u001b[37m\u001b[0m \u001b[1m4s\u001b[0m 103ms/step - accuracy: 0.7820 - loss: 0.4982 - val_accuracy: 0.7370 - val_loss: 0.4711\n",
      "Epoch 8/20\n",
      "\u001b[1m34/34\u001b[0m \u001b[32m━━━━━━━━━━━━━━━━━━━━\u001b[0m\u001b[37m\u001b[0m \u001b[1m4s\u001b[0m 102ms/step - accuracy: 0.7842 - loss: 0.4844 - val_accuracy: 0.8574 - val_loss: 0.3477\n",
      "Epoch 9/20\n",
      "\u001b[1m34/34\u001b[0m \u001b[32m━━━━━━━━━━━━━━━━━━━━\u001b[0m\u001b[37m\u001b[0m \u001b[1m4s\u001b[0m 99ms/step - accuracy: 0.8010 - loss: 0.4532 - val_accuracy: 0.8222 - val_loss: 0.3701\n",
      "Epoch 10/20\n",
      "\u001b[1m34/34\u001b[0m \u001b[32m━━━━━━━━━━━━━━━━━━━━\u001b[0m\u001b[37m\u001b[0m \u001b[1m4s\u001b[0m 100ms/step - accuracy: 0.7865 - loss: 0.4285 - val_accuracy: 0.7963 - val_loss: 0.4091\n",
      "Epoch 11/20\n",
      "\u001b[1m34/34\u001b[0m \u001b[32m━━━━━━━━━━━━━━━━━━━━\u001b[0m\u001b[37m\u001b[0m \u001b[1m4s\u001b[0m 99ms/step - accuracy: 0.7828 - loss: 0.4535 - val_accuracy: 0.7926 - val_loss: 0.4101\n",
      "Epoch 12/20\n",
      "\u001b[1m34/34\u001b[0m \u001b[32m━━━━━━━━━━━━━━━━━━━━\u001b[0m\u001b[37m\u001b[0m \u001b[1m4s\u001b[0m 100ms/step - accuracy: 0.8004 - loss: 0.4578 - val_accuracy: 0.7778 - val_loss: 0.4150\n",
      "Epoch 13/20\n",
      "\u001b[1m34/34\u001b[0m \u001b[32m━━━━━━━━━━━━━━━━━━━━\u001b[0m\u001b[37m\u001b[0m \u001b[1m4s\u001b[0m 99ms/step - accuracy: 0.8091 - loss: 0.4259 - val_accuracy: 0.8500 - val_loss: 0.3290\n",
      "Epoch 14/20\n",
      "\u001b[1m34/34\u001b[0m \u001b[32m━━━━━━━━━━━━━━━━━━━━\u001b[0m\u001b[37m\u001b[0m \u001b[1m4s\u001b[0m 99ms/step - accuracy: 0.8233 - loss: 0.4038 - val_accuracy: 0.8167 - val_loss: 0.3784\n",
      "Epoch 15/20\n",
      "\u001b[1m34/34\u001b[0m \u001b[32m━━━━━━━━━━━━━━━━━━━━\u001b[0m\u001b[37m\u001b[0m \u001b[1m4s\u001b[0m 103ms/step - accuracy: 0.8234 - loss: 0.4131 - val_accuracy: 0.8611 - val_loss: 0.3351\n",
      "Epoch 16/20\n",
      "\u001b[1m34/34\u001b[0m \u001b[32m━━━━━━━━━━━━━━━━━━━━\u001b[0m\u001b[37m\u001b[0m \u001b[1m4s\u001b[0m 103ms/step - accuracy: 0.8120 - loss: 0.4370 - val_accuracy: 0.7926 - val_loss: 0.4341\n",
      "Epoch 17/20\n",
      "\u001b[1m34/34\u001b[0m \u001b[32m━━━━━━━━━━━━━━━━━━━━\u001b[0m\u001b[37m\u001b[0m \u001b[1m5s\u001b[0m 125ms/step - accuracy: 0.8177 - loss: 0.3998 - val_accuracy: 0.8630 - val_loss: 0.3103\n",
      "Epoch 18/20\n",
      "\u001b[1m34/34\u001b[0m \u001b[32m━━━━━━━━━━━━━━━━━━━━\u001b[0m\u001b[37m\u001b[0m \u001b[1m4s\u001b[0m 106ms/step - accuracy: 0.8306 - loss: 0.3543 - val_accuracy: 0.8796 - val_loss: 0.2922\n",
      "Epoch 19/20\n",
      "\u001b[1m34/34\u001b[0m \u001b[32m━━━━━━━━━━━━━━━━━━━━\u001b[0m\u001b[37m\u001b[0m \u001b[1m4s\u001b[0m 99ms/step - accuracy: 0.8375 - loss: 0.3637 - val_accuracy: 0.8037 - val_loss: 0.4454\n",
      "Epoch 20/20\n",
      "\u001b[1m34/34\u001b[0m \u001b[32m━━━━━━━━━━━━━━━━━━━━\u001b[0m\u001b[37m\u001b[0m \u001b[1m4s\u001b[0m 103ms/step - accuracy: 0.8218 - loss: 0.3883 - val_accuracy: 0.8907 - val_loss: 0.2733\n"
     ]
    }
   ],
   "source": [
    "# Train the model using the data generator for training and the validation set directly\n",
    "history = model.fit(\n",
    "    data_gen.flow(X_train, y_train, batch_size=32),\n",
    "    validation_data=(X_val, y_val),\n",
    "    epochs=20\n",
    ")\n"
   ]
  },
  {
   "cell_type": "code",
   "execution_count": 13,
   "metadata": {},
   "outputs": [
    {
     "name": "stdout",
     "output_type": "stream",
     "text": [
      "\u001b[1m6/6\u001b[0m \u001b[32m━━━━━━━━━━━━━━━━━━━━\u001b[0m\u001b[37m\u001b[0m \u001b[1m0s\u001b[0m 23ms/step - accuracy: 0.8951 - loss: 0.2504\n",
      "Testing Accuracy:  0.9111111164093018\n",
      "Testing Loss:  0.2375599592924118\n"
     ]
    }
   ],
   "source": [
    "# get the testing accuracy and loss\n",
    "test_loss, test_accuracy = model.evaluate(X_test, y_test)\n",
    "print(\"Testing Accuracy: \", test_accuracy)\n",
    "print(\"Testing Loss: \", test_loss)"
   ]
  },
  {
   "cell_type": "code",
   "execution_count": 14,
   "metadata": {
    "execution": {
     "iopub.execute_input": "2024-11-02T21:06:43.743343Z",
     "iopub.status.busy": "2024-11-02T21:06:43.742944Z",
     "iopub.status.idle": "2024-11-02T21:06:44.659592Z",
     "shell.execute_reply": "2024-11-02T21:06:44.658462Z",
     "shell.execute_reply.started": "2024-11-02T21:06:43.743296Z"
    },
    "trusted": true
   },
   "outputs": [
    {
     "name": "stdout",
     "output_type": "stream",
     "text": [
      "\u001b[1m6/6\u001b[0m \u001b[32m━━━━━━━━━━━━━━━━━━━━\u001b[0m\u001b[37m\u001b[0m \u001b[1m0s\u001b[0m 26ms/step\n",
      "              precision    recall  f1-score   support\n",
      "\n",
      "           0       0.96      0.93      0.94       144\n",
      "           1       0.75      0.83      0.79        36\n",
      "\n",
      "    accuracy                           0.91       180\n",
      "   macro avg       0.85      0.88      0.87       180\n",
      "weighted avg       0.92      0.91      0.91       180\n",
      "\n"
     ]
    }
   ],
   "source": [
    "# Predict on the test set\n",
    "y_pred = model.predict(X_test)\n",
    "y_pred_round = np.round(y_pred).astype(int)  # Convert probabilities to binary predictions\n",
    "\n",
    "# Generate classification report and confusion matrix\n",
    "print(classification_report(y_test, y_pred_round))\n",
    "confusionMatrix = confusion_matrix(y_test, y_pred_round)"
   ]
  },
  {
   "cell_type": "markdown",
   "metadata": {},
   "source": [
    "## Visualize Confusion Matrix"
   ]
  },
  {
   "cell_type": "code",
   "execution_count": 15,
   "metadata": {},
   "outputs": [
    {
     "data": {
      "image/png": "[encoded data removed]",
      "text/plain": [
       "<Figure size 400x400 with 2 Axes>"
      ]
     },
     "metadata": {},
     "output_type": "display_data"
    }
   ],
   "source": [
    "# plot the confusion matrix\n",
    "confusionMatrixPlot = ConfusionMatrixDisplay(confusion_matrix = confusionMatrix)\n",
    "plt.figure(figsize=(4, 4))\n",
    "confusionMatrixPlot.plot(ax=plt.gca())\n",
    "plt.show()"
   ]
  },
  {
   "cell_type": "markdown",
   "metadata": {},
   "source": [
    "## ROC Curve"
   ]
  },
  {
   "cell_type": "code",
   "execution_count": 16,
   "metadata": {},
   "outputs": [],
   "source": [
    "# compute the AUC value\n",
    "aucValue = roc_auc_score(y_test, y_pred)"
   ]
  },
  {
   "cell_type": "code",
   "execution_count": 17,
   "metadata": {},
   "outputs": [
    {
     "data": {
      "image/png": "[encoded data removed]",
      "text/plain": [
       "<Figure size 700x700 with 1 Axes>"
      ]
     },
     "metadata": {},
     "output_type": "display_data"
    }
   ],
   "source": [
    "# plot the ROC\n",
    "fpr, tpr, _ = roc_curve(y_test, y_pred)\n",
    "plt.figure(figsize=(7, 7))\n",
    "roc_display = RocCurveDisplay(fpr=fpr, tpr=tpr)\n",
    "roc_display.plot(ax=plt.gca())\n",
    "plt.title(f\"ROC Curve (AUC = {aucValue:.2f})\")\n",
    "plt.show()"
   ]
  },
  {
   "cell_type": "markdown",
   "metadata": {},
   "source": [
    "## Precision-Recall Curve"
   ]
  },
  {
   "cell_type": "code",
   "execution_count": 18,
   "metadata": {},
   "outputs": [],
   "source": [
    "# compute the precision and recall\n",
    "precision, recall, thresholds = precision_recall_curve(y_test, y_pred)\n",
    "average_precision = average_precision_score(y_test, y_pred)"
   ]
  },
  {
   "cell_type": "code",
   "execution_count": 19,
   "metadata": {},
   "outputs": [
    {
     "data": {
      "image/png": "[encoded data removed]",
      "text/plain": [
       "<Figure size 700x700 with 1 Axes>"
      ]
     },
     "metadata": {},
     "output_type": "display_data"
    }
   ],
   "source": [
    "# plot the PRC\n",
    "fpr, tpr, _ = roc_curve(y_test, y_pred)\n",
    "plt.figure(figsize=(7, 7))\n",
    "PRC_display = PrecisionRecallDisplay(precision= precision, recall=recall)\n",
    "PRC_display.plot(ax=plt.gca())\n",
    "plt.title(f\"Precision-Recall Curve (AP = {average_precision:.2f})\")\n",
    "plt.show()"
   ]
  }
 ],
 "metadata": {
  "kaggle": {
   "accelerator": "none",
   "dataSources": [
    {
     "datasetId": 1343913,
     "sourceId": 2236708,
     "sourceType": "datasetVersion"
    }
   ],
   "dockerImageVersionId": 30786,
   "isGpuEnabled": false,
   "isInternetEnabled": false,
   "language": "python",
   "sourceType": "notebook"
  },
  "kernelspec": {
   "display_name": "base",
   "language": "python",
   "name": "python3"
  },
  "language_info": {
   "codemirror_mode": {
    "name": "ipython",
    "version": 3
   },
   "file_extension": ".py",
   "mimetype": "text/x-python",
   "name": "python",
   "nbconvert_exporter": "python",
   "pygments_lexer": "ipython3",
   "version": "3.11.4"
  }
 },
 "nbformat": 4,
 "nbformat_minor": 4
}
